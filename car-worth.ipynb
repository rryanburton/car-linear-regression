{
 "cells": [
  {
   "cell_type": "code",
   "execution_count": 1,
   "metadata": {
    "collapsed": true
   },
   "outputs": [],
   "source": [
    "import pandas as pd\n",
    "import matplotlib.pyplot as plt\n",
    "import numpy as np\n",
    "from sklearn import linear_model\n",
    "\n",
    "%matplotlib inline"
   ]
  },
  {
   "cell_type": "markdown",
   "metadata": {},
   "source": [
    "# How Much is Your Car Worth?\n",
    "\n",
    "Data about the retail price of 2005 General Motors cars can be found in `car_data.csv`.\n",
    "\n",
    "The columns are:\n",
    "\n",
    "1. Price: suggested retail price of the used 2005 GM car in excellent condition.\n",
    "2. Mileage: number of miles the car has been driven\n",
    "3. Make: manufacturer of the car such as Saturn, Pontiac, and Chevrolet\n",
    "4. Model: specific models for each car manufacturer such as Ion, Vibe, Cavalier\n",
    "5. Trim (of car): specific type of car model such as SE Sedan 4D, Quad Coupe 2D          \n",
    "6. Type: body type such as sedan, coupe, etc.      \n",
    "7. Cylinder: number of cylinders in the engine        \n",
    "8. Liter: a more specific measure of engine size     \n",
    "9. Doors: number of doors           \n",
    "10. Cruise: indicator variable representing whether the car has cruise control (1 = cruise)\n",
    "11. Sound: indicator variable representing whether the car has upgraded speakers (1 = upgraded)\n",
    "12. Leather: indicator variable representing whether the car has leather seats (1 = leather)\n",
    "\n",
    "## Tasks, Part 1\n",
    "\n",
    "1. Find the linear regression equation for mileage vs price.\n",
    "2. Chart the original data and the equation on the chart.\n",
    "3. Find the equation's $R^2$ score (use the `.score` method) to determine whether the\n",
    "equation is a good fit for this data. (0.8 and greater is considered a strong correlation.)\n",
    "\n",
    "## Tasks, Part 2\n",
    "\n",
    "1. Use mileage, cylinders, liters, doors, cruise, sound, and leather to find the linear regression equation.\n",
    "2. Find the equation's $R^2$ score (use the `.score` method) to determine whether the\n",
    "equation is a good fit for this data. (0.8 and greater is considered a strong correlation.)\n",
    "3. Find the combination of the factors that is the best predictor for price.\n",
    "\n",
    "## Tasks, Part 3\n",
    "\n",
    "1. Research dummy variables in scikit-learn to see how to use the make, model, and body type.\n",
    "2. Find the best combination of factors to predict price."
   ]
  },
  {
   "cell_type": "code",
   "execution_count": 34,
   "metadata": {
    "collapsed": false
   },
   "outputs": [
    {
     "data": {
      "text/plain": [
       "array(['Century', 'Lacrosse', 'Lesabre', 'Park Avenue', 'CST-V', 'CTS',\n",
       "       'Deville', 'STS-V6', 'STS-V8', 'XLR-V8', 'AVEO', 'Cavalier',\n",
       "       'Classic', 'Cobalt', 'Corvette', 'Impala', 'Malibu', 'Monte Carlo',\n",
       "       'Bonneville', 'G6', 'Grand Am', 'Grand Prix', 'GTO', 'Sunfire',\n",
       "       'Vibe', '9_3', '9_3 HO', '9_5', '9_5 HO', '9-2X AWD', 'Ion',\n",
       "       'L Series'], dtype=object)"
      ]
     },
     "execution_count": 34,
     "metadata": {},
     "output_type": "execute_result"
    }
   ],
   "source": [
    "df = pd.read_csv(\"car_data.csv\")\n"
   ]
  },
  {
   "cell_type": "markdown",
   "metadata": {},
   "source": [
    "## Tasks Part 1"
   ]
  },
  {
   "cell_type": "code",
   "execution_count": 14,
   "metadata": {
    "collapsed": false
   },
   "outputs": [
    {
     "data": {
      "text/html": [
       "<div>\n",
       "<table border=\"1\" class=\"dataframe\">\n",
       "  <thead>\n",
       "    <tr style=\"text-align: right;\">\n",
       "      <th></th>\n",
       "      <th>Price</th>\n",
       "    </tr>\n",
       "  </thead>\n",
       "  <tbody>\n",
       "    <tr>\n",
       "      <th>0</th>\n",
       "      <td>17314.103129</td>\n",
       "    </tr>\n",
       "    <tr>\n",
       "      <th>1</th>\n",
       "      <td>17542.036083</td>\n",
       "    </tr>\n",
       "    <tr>\n",
       "      <th>2</th>\n",
       "      <td>16218.847862</td>\n",
       "    </tr>\n",
       "    <tr>\n",
       "      <th>3</th>\n",
       "      <td>16336.913140</td>\n",
       "    </tr>\n",
       "    <tr>\n",
       "      <th>4</th>\n",
       "      <td>16339.170324</td>\n",
       "    </tr>\n",
       "  </tbody>\n",
       "</table>\n",
       "</div>"
      ],
      "text/plain": [
       "          Price\n",
       "0  17314.103129\n",
       "1  17542.036083\n",
       "2  16218.847862\n",
       "3  16336.913140\n",
       "4  16339.170324"
      ]
     },
     "execution_count": 14,
     "metadata": {},
     "output_type": "execute_result"
    }
   ],
   "source": [
    "df_prices = df[['Price']]\n",
    "df_mileages = df['Mileage']\n",
    "\n",
    "df_prices.sort().head()"
   ]
  },
  {
   "cell_type": "code",
   "execution_count": 132,
   "metadata": {
    "collapsed": false
   },
   "outputs": [
    {
     "data": {
      "text/plain": [
       "0     8221\n",
       "1     9135\n",
       "2    13196\n",
       "3    16342\n",
       "4    19832\n",
       "Name: Mileage, dtype: int64"
      ]
     },
     "execution_count": 132,
     "metadata": {},
     "output_type": "execute_result"
    }
   ],
   "source": [
    "df_mileages.head()"
   ]
  },
  {
   "cell_type": "code",
   "execution_count": 8,
   "metadata": {
    "collapsed": false
   },
   "outputs": [
    {
     "data": {
      "text/plain": [
       "0.020463447323489037"
      ]
     },
     "execution_count": 8,
     "metadata": {},
     "output_type": "execute_result"
    }
   ],
   "source": [
    "regr1 = linear_model.LinearRegression()\n",
    "regr1.fit(df_prices, df_mileages)\n",
    "score1 = regr1.score(df_prices, df_mileages)\n",
    "score1"
   ]
  },
  {
   "cell_type": "code",
   "execution_count": 11,
   "metadata": {
    "collapsed": false
   },
   "outputs": [
    {
     "data": {
      "text/plain": [
       "'price_reg = [-0.11861458]X + 22363.54215594064'"
      ]
     },
     "execution_count": 11,
     "metadata": {},
     "output_type": "execute_result"
    }
   ],
   "source": [
    "coef, intercept = regr1.coef_, regr1.intercept_\n",
    "price_reg = 'price_reg = {}X + {}'.format(coef, intercept)\n",
    "price_reg"
   ]
  },
  {
   "cell_type": "code",
   "execution_count": 97,
   "metadata": {
    "collapsed": false,
    "scrolled": true
   },
   "outputs": [
    {
     "data": {
      "image/png": "[encoded data removed]",
      "text/plain": [
       "<matplotlib.figure.Figure at 0x10c91d978>"
      ]
     },
     "metadata": {},
     "output_type": "display_data"
    }
   ],
   "source": [
    "plt.plot(df_prices, regr1.predict(df_prices), color = 'b')\n",
    "plt.scatter(df_mileages, df_prices, marker='o', facecolor = 'none')\n",
    "plt.xlabel('Mileage')\n",
    "plt.ylabel('Resale Value')\n",
    "plt.title('Mileage v. Price')\n",
    "plt.show()"
   ]
  },
  {
   "cell_type": "markdown",
   "metadata": {},
   "source": [
    "## Tasks Part 2"
   ]
  },
  {
   "cell_type": "code",
   "execution_count": 135,
   "metadata": {
    "collapsed": true
   },
   "outputs": [],
   "source": [
    "from itertools import combinations"
   ]
  },
  {
   "cell_type": "code",
   "execution_count": 136,
   "metadata": {
    "collapsed": true
   },
   "outputs": [],
   "source": [
    "#helper function\n",
    "def plot_regression(cols):\n",
    "    input_values = prices[list(cols)]\n",
    "    output_values = prices.Prices\n",
    "    r = linear_model.LinearRegression()\n",
    "    r.fit(mileages,prices)\n",
    "    \n",
    "\n",
    "    print(cols)\n",
    "    print(r.score(mileages,prices))\n",
    "    print(r.coef_,r.intercept_)"
   ]
  },
  {
   "cell_type": "code",
   "execution_count": null,
   "metadata": {
    "collapsed": false
   },
   "outputs": [],
   "source": []
  },
  {
   "cell_type": "code",
   "execution_count": 137,
   "metadata": {
    "collapsed": false
   },
   "outputs": [],
   "source": [
    "combos = []\n",
    "names = [\"Price\", \"Mileage\", \"Cylinder\", \"Liter\", \"Doors\", \"Cruise\", \"Sound\", \"Leather\"]\n",
    "# names = [\"Price\", \"Mileage\", \"Make\", \"Model\", \"Trim\", \"Type\", \"Cylinder\", \"Liter\", \"Doors\", \"Cruise\", \"Sound\", \"Leather\"]\n",
    "for x in range(len(names)):\n",
    "    combos.append(list(combinations(names, x)))\n",
    "    \n",
    "inputs = []\n",
    "output = df[['Price']]\n",
    "\n",
    "for x in combos:\n",
    "    for y in x:\n",
    "        if len(y) == 0:\n",
    "            continue\n",
    "        inputs.append(list(y))\n",
    "        \n",
    "results = []\n",
    "\n",
    "for x in inputs:\n",
    "    input_data = df[x]\n",
    "    regr4 = linear_model.LinearRegression()\n",
    "    regr4.fit(input_data, output)\n",
    "    results.append([', '.join(x), regr4.score(input_data, output)])\n",
    "    \n",
    "results = pd.DataFrame(results, columns= ('Grouping', 'Score'))\n",
    "\n",
    "sorted_results = results.sort_index(by='Score', ascending=[False])"
   ]
  },
  {
   "cell_type": "code",
   "execution_count": 138,
   "metadata": {
    "collapsed": false
   },
   "outputs": [
    {
     "name": "stdout",
     "output_type": "stream",
     "text": [
      "Coefficients:\n",
      " [ -1.69747832e-01   3.79237893e+03  -7.87220732e+02  -1.54274585e+03\n",
      "   6.28899715e+03  -1.99379528e+03   3.34936162e+03] \n",
      "Intercept:\n",
      " 6758.7551436\n",
      "R^2 Score:\n",
      " 0.446264353673\n"
     ]
    }
   ],
   "source": [
    "df = pd.read_csv(\"car_data.csv\")\n",
    "multiple_regression = linear_model.LinearRegression()\n",
    "combos = df[['Mileage', 'Cylinder', 'Liter', 'Doors', 'Cruise', 'Sound','Leather']]\n",
    "price = df['Price']\n",
    "multiple_regression.fit(combos, price)\n",
    "print('Coefficients:\\n',multiple_regression.coef_, '\\nIntercept:\\n', multiple_regression.intercept_)\n",
    "print('R^2 Score:\\n', multiple_regression.score(combos, price))\n"
   ]
  },
  {
   "cell_type": "code",
   "execution_count": null,
   "metadata": {
    "collapsed": true
   },
   "outputs": [],
   "source": []
  },
  {
   "cell_type": "markdown",
   "metadata": {},
   "source": [
    "## Part 3 Brainstorming"
   ]
  },
  {
   "cell_type": "code",
   "execution_count": 133,
   "metadata": {
    "collapsed": false
   },
   "outputs": [
    {
     "data": {
      "text/plain": [
       "array(['Century', 'Lacrosse', 'Lesabre', 'Park Avenue', 'CST-V', 'CTS',\n",
       "       'Deville', 'STS-V6', 'STS-V8', 'XLR-V8', 'AVEO', 'Cavalier',\n",
       "       'Classic', 'Cobalt', 'Corvette', 'Impala', 'Malibu', 'Monte Carlo',\n",
       "       'Bonneville', 'G6', 'Grand Am', 'Grand Prix', 'GTO', 'Sunfire',\n",
       "       'Vibe', '9_3', '9_3 HO', '9_5', '9_5 HO', '9-2X AWD', 'Ion',\n",
       "       'L Series'], dtype=object)"
      ]
     },
     "execution_count": 133,
     "metadata": {},
     "output_type": "execute_result"
    }
   ],
   "source": [
    "df['Model'].unique()"
   ]
  },
  {
   "cell_type": "code",
   "execution_count": 134,
   "metadata": {
    "collapsed": false
   },
   "outputs": [
    {
     "data": {
      "text/plain": [
       "array(['Buick', 'Cadillac', 'Chevrolet', 'Pontiac', 'SAAB', 'Saturn'], dtype=object)"
      ]
     },
     "execution_count": 134,
     "metadata": {},
     "output_type": "execute_result"
    }
   ],
   "source": [
    "df['Make'].unique()"
   ]
  },
  {
   "cell_type": "code",
   "execution_count": 121,
   "metadata": {
    "collapsed": false
   },
   "outputs": [
    {
     "data": {
      "text/plain": [
       "LinearRegression(copy_X=True, fit_intercept=True, n_jobs=1, normalize=False)"
      ]
     },
     "execution_count": 121,
     "metadata": {},
     "output_type": "execute_result"
    }
   ],
   "source": [
    "multiple_regression"
   ]
  },
  {
   "cell_type": "code",
   "execution_count": 122,
   "metadata": {
    "collapsed": false
   },
   "outputs": [
    {
     "name": "stdout",
     "output_type": "stream",
     "text": [
      "                                              Grouping     Score\n",
      "0                                                Price  1.000000\n",
      "174              Price, Mileage, Liter, Doors, Leather  1.000000\n",
      "93                     Price, Mileage, Cylinder, Doors  1.000000\n",
      "92                     Price, Mileage, Cylinder, Liter  1.000000\n",
      "163            Price, Mileage, Cylinder, Liter, Cruise  1.000000\n",
      "164             Price, Mileage, Cylinder, Liter, Sound  1.000000\n",
      "165           Price, Mileage, Cylinder, Liter, Leather  1.000000\n",
      "166            Price, Mileage, Cylinder, Doors, Cruise  1.000000\n",
      "167             Price, Mileage, Cylinder, Doors, Sound  1.000000\n",
      "168           Price, Mileage, Cylinder, Doors, Leather  1.000000\n",
      "169            Price, Mileage, Cylinder, Cruise, Sound  1.000000\n",
      "170          Price, Mileage, Cylinder, Cruise, Leather  1.000000\n",
      "171           Price, Mileage, Cylinder, Sound, Leather  1.000000\n",
      "172               Price, Mileage, Liter, Doors, Cruise  1.000000\n",
      "173                Price, Mileage, Liter, Doors, Sound  1.000000\n",
      "175               Price, Mileage, Liter, Cruise, Sound  1.000000\n",
      "95                     Price, Mileage, Cylinder, Sound  1.000000\n",
      "176             Price, Mileage, Liter, Cruise, Leather  1.000000\n",
      "177              Price, Mileage, Liter, Sound, Leather  1.000000\n",
      "178               Price, Mileage, Doors, Cruise, Sound  1.000000\n",
      "179             Price, Mileage, Doors, Cruise, Leather  1.000000\n",
      "180              Price, Mileage, Doors, Sound, Leather  1.000000\n",
      "181             Price, Mileage, Cruise, Sound, Leather  1.000000\n",
      "182              Price, Cylinder, Liter, Doors, Cruise  1.000000\n",
      "183               Price, Cylinder, Liter, Doors, Sound  1.000000\n",
      "184             Price, Cylinder, Liter, Doors, Leather  1.000000\n",
      "185              Price, Cylinder, Liter, Cruise, Sound  1.000000\n",
      "186            Price, Cylinder, Liter, Cruise, Leather  1.000000\n",
      "187             Price, Cylinder, Liter, Sound, Leather  1.000000\n",
      "188              Price, Cylinder, Doors, Cruise, Sound  1.000000\n",
      "..                                                 ...       ...\n",
      "39                              Price, Mileage, Cruise  1.000000\n",
      "38                               Price, Mileage, Doors  1.000000\n",
      "37                               Price, Mileage, Liter  1.000000\n",
      "36                            Price, Mileage, Cylinder  1.000000\n",
      "219      Price, Mileage, Cylinder, Liter, Doors, Sound  1.000000\n",
      "220    Price, Mileage, Cylinder, Liter, Doors, Leather  1.000000\n",
      "126                      Price, Cruise, Sound, Leather  1.000000\n",
      "253  Mileage, Cylinder, Liter, Doors, Cruise, Sound...  0.446264\n",
      "243   Mileage, Cylinder, Doors, Cruise, Sound, Leather  0.445691\n",
      "240   Mileage, Cylinder, Liter, Doors, Cruise, Leather  0.437806\n",
      "204          Mileage, Cylinder, Doors, Cruise, Leather  0.436940\n",
      "242   Mileage, Cylinder, Liter, Cruise, Sound, Leather  0.430141\n",
      "206          Mileage, Cylinder, Cruise, Sound, Leather  0.430018\n",
      "245     Cylinder, Liter, Doors, Cruise, Sound, Leather  0.426535\n",
      "216            Cylinder, Doors, Cruise, Sound, Leather  0.425768\n",
      "244      Mileage, Liter, Doors, Cruise, Sound, Leather  0.424828\n",
      "239     Mileage, Cylinder, Liter, Doors, Cruise, Sound  0.424418\n",
      "203            Mileage, Cylinder, Doors, Cruise, Sound  0.424097\n",
      "201          Mileage, Cylinder, Liter, Cruise, Leather  0.422531\n",
      "135                 Mileage, Cylinder, Cruise, Leather  0.422507\n",
      "197            Mileage, Cylinder, Liter, Doors, Cruise  0.419658\n",
      "131                   Mileage, Cylinder, Doors, Cruise  0.419150\n",
      "213            Cylinder, Liter, Doors, Cruise, Leather  0.418839\n",
      "154                   Cylinder, Doors, Cruise, Leather  0.417760\n",
      "210             Mileage, Liter, Cruise, Sound, Leather  0.416508\n",
      "208             Mileage, Liter, Doors, Cruise, Leather  0.414009\n",
      "215            Cylinder, Liter, Cruise, Sound, Leather  0.410703\n",
      "156                   Cylinder, Cruise, Sound, Leather  0.410655\n",
      "141                    Mileage, Liter, Cruise, Leather  0.406788\n",
      "200            Mileage, Cylinder, Liter, Cruise, Sound  0.406549\n",
      "\n",
      "[150 rows x 2 columns]\n"
     ]
    }
   ],
   "source": [
    "print(sorted_results.head(150))\n"
   ]
  },
  {
   "cell_type": "code",
   "execution_count": null,
   "metadata": {
    "collapsed": false
   },
   "outputs": [],
   "source": []
  },
  {
   "cell_type": "code",
   "execution_count": null,
   "metadata": {
    "collapsed": false
   },
   "outputs": [],
   "source": [
    "\n"
   ]
  },
  {
   "cell_type": "code",
   "execution_count": 131,
   "metadata": {
    "collapsed": false
   },
   "outputs": [
    {
     "name": "stdout",
     "output_type": "stream",
     "text": [
      "The R2 score for Mileage is:  0.446264353673\n",
      "The R2 score for Cylinder is:  0.446264353673\n",
      "The R2 score for Liter is:  0.446264353673\n",
      "The R2 score for Doors is:  0.446264353673\n",
      "The R2 score for Cruise is:  0.446264353673\n",
      "The R2 score for Sound is:  0.446264353673\n",
      "The R2 score for Leather is:  0.446264353673\n"
     ]
    }
   ],
   "source": [
    "poss_cols = ['Mileage', 'Cylinder', \n",
    "            'Liter', 'Doors', 'Cruise', \n",
    "            'Sound', 'Leather']\n",
    "for x in range(1, len(poss_cols)):\n",
    "    input_data = df[poss_cols]\n",
    "    output_data = df.Price\n",
    "    regr = linear_model.LinearRegression()\n",
    "    regr.fit(input_data, output_data)\n",
    "    \n",
    "for x in poss_cols:\n",
    "    print(\"The R2 score for {} is: \".format(x), regr.score(input_data, output_data))"
   ]
  },
  {
   "cell_type": "code",
   "execution_count": 128,
   "metadata": {
    "collapsed": false
   },
   "outputs": [
    {
     "data": {
      "text/plain": [
       "0      17314.103129\n",
       "1      17542.036083\n",
       "2      16218.847862\n",
       "3      16336.913140\n",
       "4      16339.170324\n",
       "5      15709.052821\n",
       "6      15230.003390\n",
       "7      15048.042184\n",
       "8      14862.093870\n",
       "9      15295.018267\n",
       "10     21335.852485\n",
       "11     20538.087510\n",
       "12     20512.094091\n",
       "13     19924.159052\n",
       "14     19774.249066\n",
       "15     19344.165537\n",
       "16     19105.130124\n",
       "17     18543.427045\n",
       "18     17808.198996\n",
       "19     17968.838278\n",
       "20     22358.877678\n",
       "21     23785.922526\n",
       "22     22926.090371\n",
       "23     21895.758784\n",
       "24     21273.061714\n",
       "25     21460.013953\n",
       "26     21183.123587\n",
       "27     20406.099503\n",
       "28     21058.139580\n",
       "29     19556.899320\n",
       "           ...     \n",
       "774    14568.002255\n",
       "775    13122.905457\n",
       "776    13494.288783\n",
       "777    12036.216751\n",
       "778    12162.140047\n",
       "779    12333.603993\n",
       "780    12099.014578\n",
       "781    12119.089702\n",
       "782    11679.923546\n",
       "783    13216.912048\n",
       "784    12412.521107\n",
       "785    12284.288290\n",
       "786    12594.183013\n",
       "787    12105.981336\n",
       "788    11873.533995\n",
       "789    12965.223269\n",
       "790    10563.066162\n",
       "791    11413.530403\n",
       "792    11504.824550\n",
       "793    11521.525888\n",
       "794    18173.978084\n",
       "795    18490.983029\n",
       "796    17322.078404\n",
       "797    17978.356998\n",
       "798    16425.174796\n",
       "799    16507.070267\n",
       "800    16175.957604\n",
       "801    15731.132897\n",
       "802    15118.893228\n",
       "803    13585.636802\n",
       "Name: Price, dtype: float64"
      ]
     },
     "execution_count": 128,
     "metadata": {},
     "output_type": "execute_result"
    }
   ],
   "source": [
    "output_data"
   ]
  },
  {
   "cell_type": "code",
   "execution_count": null,
   "metadata": {
    "collapsed": true
   },
   "outputs": [],
   "source": []
  }
 ],
 "metadata": {
  "kernelspec": {
   "display_name": "Python 3",
   "language": "python",
   "name": "python3"
  },
  "language_info": {
   "codemirror_mode": {
    "name": "ipython",
    "version": 3
   },
   "file_extension": ".py",
   "mimetype": "text/x-python",
   "name": "python",
   "nbconvert_exporter": "python",
   "pygments_lexer": "ipython3",
   "version": "3.4.3"
  }
 },
 "nbformat": 4,
 "nbformat_minor": 0
}
